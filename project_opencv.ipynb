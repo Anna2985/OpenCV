{
 "cells": [
  {
   "cell_type": "code",
   "execution_count": 1,
   "id": "78263fd8-ecea-421c-8cd7-5115a8c91672",
   "metadata": {},
   "outputs": [
    {
     "name": "stdout",
     "output_type": "stream",
     "text": [
      "training...\n",
      "ok!\n"
     ]
    }
   ],
   "source": [
    "import cv2\n",
    "import numpy as np\n",
    "detector = cv2.CascadeClassifier('xml/haarcascade_frontalface_default.xml')  # 載入人臉追蹤模型\n",
    "recog = cv2.face.LBPHFaceRecognizer_create()      # 啟用訓練人臉模型方法\n",
    "faces = []   # 儲存人臉位置大小的串列\n",
    "ids = []     # 記錄該人臉 id 的串列\n",
    "\n",
    "for i in range(1,21):\n",
    "    img = cv2.imread(f'da_chien/0{i}.jpg')        # 依序開啟每一張照片\n",
    "    gray = cv2.cvtColor(img, cv2.COLOR_BGR2GRAY)  # 色彩轉換成黑白\n",
    "    img_np = np.array(gray,'uint8')               # 轉換成指定編碼的 numpy 陣列\n",
    "    face = detector.detectMultiScale(gray)        # 擷取人臉區域\n",
    "    for(x,y,w,h) in face:\n",
    "        faces.append(img_np[y:y+h,x:x+w])         # 記錄人臉的位置和大小內像素的數值\n",
    "        ids.append(1)                             # 記錄人臉對應的 id，只能是整數\n",
    "\n",
    "\n",
    "\n",
    "print('training...')                              # 提示開始訓練\n",
    "recog.train(faces,np.array(ids))                  # 開始訓練\n",
    "recog.save('face.yml')                            # 訓練完成儲存為 face.yml\n",
    "print('ok!')"
   ]
  },
  {
   "cell_type": "code",
   "execution_count": 2,
   "id": "9486eb76",
   "metadata": {},
   "outputs": [
    {
     "name": "stdout",
     "output_type": "stream",
     "text": [
      "Cannot receive frame\n"
     ]
    }
   ],
   "source": [
    "import cv2\n",
    "recognizer = cv2.face.LBPHFaceRecognizer_create()         # 啟用訓練人臉模型方法\n",
    "recognizer.read('face.yml')                               # 讀取人臉模型檔\n",
    "cascade_path = \"xml/haarcascade_frontalface_default.xml\"  # 載入人臉追蹤模型\n",
    "face_cascade = cv2.CascadeClassifier(cascade_path)        # 啟用人臉追蹤\n",
    "\n",
    "#cap = cv2.VideoCapture(700)                                 # 開啟攝影機\n",
    "cap = cv2.VideoCapture(\"./test/test6.mp4\")                   # 開啟攝影機\n",
    "\n",
    "if not cap.isOpened():\n",
    "    print(\"Cannot open camera\")\n",
    "    exit()\n",
    "while True:\n",
    "    ret, img = cap.read()\n",
    "    if not ret:\n",
    "        print(\"Cannot receive frame\")\n",
    "        break\n",
    "    image = cv2.resize(img,(540,300))              # 縮小尺寸，加快辨識效率\n",
    "    gray = cv2.cvtColor(image,cv2.COLOR_BGR2GRAY)  # 轉換成黑白\n",
    "    faces = face_cascade.detectMultiScale(gray)  # 追蹤人臉 ( 目的在於標記出外框 )\n",
    "\n",
    "    # 建立姓名和 id 的對照表\n",
    "    name = {\n",
    "        \"1\":'da_chien_huang',\n",
    "    }\n",
    "\n",
    "    # 依序判斷每張臉屬於哪個 id\n",
    "    for(x,y,w,h) in faces:\n",
    "        cv2.rectangle(image,(x,y),(x+w,y+h),(0,255,0),2)            # 標記人臉外框\n",
    "        idnum,confidence = recognizer.predict(gray[y:y+h,x:x+w])  # 取出 id 號碼以及信心指數 confidence\n",
    "        if confidence < 80:\n",
    "            text = name[str(idnum)]                               \n",
    "        else:\n",
    "            text = '???'                                          # 不然名字就是 ???\n",
    "        # 在人臉外框旁加上名字\n",
    "        cv2.putText(image, text, (x-40,y-5),cv2.FONT_HERSHEY_SIMPLEX, 1, (0,255,0), 2, cv2.LINE_AA)\n",
    "\n",
    "    cv2.imshow('qq', image)\n",
    "    if cv2.waitKey(5) == ord('q'):\n",
    "        break    # 按下 q 鍵停止\n",
    "\n",
    "cap.release()\n",
    "cv2.destroyAllWindows()"
   ]
  },
  {
   "cell_type": "code",
   "execution_count": null,
   "id": "eea12d10",
   "metadata": {},
   "outputs": [],
   "source": []
  }
 ],
 "metadata": {
  "kernelspec": {
   "display_name": "Python 3 (ipykernel)",
   "language": "python",
   "name": "python3"
  },
  "language_info": {
   "codemirror_mode": {
    "name": "ipython",
    "version": 3
   },
   "file_extension": ".py",
   "mimetype": "text/x-python",
   "name": "python",
   "nbconvert_exporter": "python",
   "pygments_lexer": "ipython3",
   "version": "3.7.16"
  }
 },
 "nbformat": 4,
 "nbformat_minor": 5
}
